{
 "cells": [
  {
   "cell_type": "code",
   "execution_count": 2,
   "id": "c4c029bc",
   "metadata": {
    "id": "c4c029bc",
    "outputId": "c696d519-ce77-4026-9d44-37d8ab0f71bd"
   },
   "outputs": [],
   "source": [
    "# %pip install numpy Pillow\n",
    "\n",
    "import numpy as np\n",
    "import os\n",
    "from PIL import Image\n",
    "\n"
   ]
  },
  {
   "cell_type": "code",
   "execution_count": 4,
   "id": "43660c97",
   "metadata": {
    "id": "43660c97",
    "outputId": "83f49e6f-5840-48da-dfed-4a3f0ca3327c"
   },
   "outputs": [],
   "source": [
    "# # %%\n",
    "# %pip install pandas matplotlib scikit-learn opencv-python\n",
    "\n",
    "import os\n",
    "import numpy as np\n",
    "import pandas as pd\n",
    "import matplotlib.pyplot as plt\n",
    "from sklearn.model_selection import train_test_split\n",
    "from PIL import Image\n",
    "import cv2\n"
   ]
  },
  {
   "cell_type": "code",
   "execution_count": 5,
   "id": "6b87bced",
   "metadata": {
    "id": "6b87bced"
   },
   "outputs": [],
   "source": [
    "# %%\n",
    "data_dir = r\"Train\"\n",
    "categories = ['real', 'fake']\n",
    "img_size = 128\n"
   ]
  },
  {
   "cell_type": "code",
   "execution_count": 6,
   "id": "a09a7a83",
   "metadata": {
    "id": "a09a7a83"
   },
   "outputs": [],
   "source": [
    "# %%\n",
    "def load_images(data_dir, categories, img_size):\n",
    "    data = []\n",
    "    for category in categories:\n",
    "        folder = os.path.join(data_dir, category)\n",
    "        label = categories.index(category)  # 0 for real, 1 for fake\n",
    "        for file in os.listdir(folder):\n",
    "            if file.lower().endswith(\".jpg\"):\n",
    "                try:\n",
    "                    path = os.path.join(folder, file)\n",
    "                    img = cv2.imread(path)\n",
    "                    img = cv2.resize(img, (img_size, img_size))\n",
    "                    data.append([img, label])\n",
    "                except Exception as e:\n",
    "                    print(f\"Error loading {file}: {e}\")\n",
    "    return data\n"
   ]
  },
  {
   "cell_type": "code",
   "execution_count": 8,
   "id": "82bedc87",
   "metadata": {},
   "outputs": [],
   "source": [
    "import cv2\n",
    "import os\n",
    "\n",
    "def load_images(data_dir, categories, img_size):\n",
    "    data = []\n",
    "    for category in categories:\n",
    "        path = os.path.join(data_dir, category)\n",
    "        class_num = categories.index(category)\n",
    "        for img in os.listdir(path):\n",
    "            try:\n",
    "                img_array = cv2.imread(os.path.join(path, img), cv2.IMREAD_GRAYSCALE)\n",
    "                resized_array = cv2.resize(img_array, (img_size, img_size))\n",
    "                data.append([resized_array, class_num])\n",
    "            except Exception as e:\n",
    "                print(f\"Failed to process image {img}: {e}\")\n",
    "    return data\n"
   ]
  },
  {
   "cell_type": "code",
   "execution_count": 9,
   "id": "64952749",
   "metadata": {},
   "outputs": [],
   "source": [
    "data_dir = r\"C:\\Users\\divya\\Downloads\\extracted_data\\Dataset\\Train\"\n",
    "categories = [\"real\", \"fake\"]\n",
    "img_size = 128\n"
   ]
  },
  {
   "cell_type": "code",
   "execution_count": 7,
   "id": "28a4066b",
   "metadata": {
    "id": "28a4066b",
    "outputId": "0dc07168-4693-4e05-bd88-810d38363a3c"
   },
   "outputs": [
    {
     "ename": "FileNotFoundError",
     "evalue": "[WinError 3] The system cannot find the path specified: 'Train\\\\real'",
     "output_type": "error",
     "traceback": [
      "\u001b[31m---------------------------------------------------------------------------\u001b[39m",
      "\u001b[31mFileNotFoundError\u001b[39m                         Traceback (most recent call last)",
      "\u001b[36mCell\u001b[39m\u001b[36m \u001b[39m\u001b[32mIn[7]\u001b[39m\u001b[32m, line 7\u001b[39m\n\u001b[32m      4\u001b[39m \u001b[38;5;66;03m# Ensure the os module is available\u001b[39;00m\n\u001b[32m      5\u001b[39m \u001b[38;5;28;01mimport\u001b[39;00m\u001b[38;5;250m \u001b[39m\u001b[34;01mos\u001b[39;00m\n\u001b[32m----> \u001b[39m\u001b[32m7\u001b[39m dataset = \u001b[43mload_images\u001b[49m\u001b[43m(\u001b[49m\u001b[43mdata_dir\u001b[49m\u001b[43m,\u001b[49m\u001b[43m \u001b[49m\u001b[43mcategories\u001b[49m\u001b[43m,\u001b[49m\u001b[43m \u001b[49m\u001b[43mimg_size\u001b[49m\u001b[43m)\u001b[49m\n\u001b[32m      8\u001b[39m random.shuffle(dataset)\n",
      "\u001b[36mCell\u001b[39m\u001b[36m \u001b[39m\u001b[32mIn[6]\u001b[39m\u001b[32m, line 7\u001b[39m, in \u001b[36mload_images\u001b[39m\u001b[34m(data_dir, categories, img_size)\u001b[39m\n\u001b[32m      5\u001b[39m folder = os.path.join(data_dir, category)\n\u001b[32m      6\u001b[39m label = categories.index(category)  \u001b[38;5;66;03m# 0 for real, 1 for fake\u001b[39;00m\n\u001b[32m----> \u001b[39m\u001b[32m7\u001b[39m \u001b[38;5;28;01mfor\u001b[39;00m file \u001b[38;5;129;01min\u001b[39;00m \u001b[43mos\u001b[49m\u001b[43m.\u001b[49m\u001b[43mlistdir\u001b[49m\u001b[43m(\u001b[49m\u001b[43mfolder\u001b[49m\u001b[43m)\u001b[49m:\n\u001b[32m      8\u001b[39m     \u001b[38;5;28;01mif\u001b[39;00m file.lower().endswith(\u001b[33m\"\u001b[39m\u001b[33m.jpg\u001b[39m\u001b[33m\"\u001b[39m):\n\u001b[32m      9\u001b[39m         \u001b[38;5;28;01mtry\u001b[39;00m:\n",
      "\u001b[31mFileNotFoundError\u001b[39m: [WinError 3] The system cannot find the path specified: 'Train\\\\real'"
     ]
    }
   ],
   "source": [
    "# %%\n",
    "import random\n",
    "\n",
    "# Ensure the os module is available\n",
    "import os\n",
    "\n",
    "dataset = load_images(data_dir, categories, img_size)\n",
    "random.shuffle(dataset)"
   ]
  },
  {
   "cell_type": "code",
   "execution_count": 11,
   "id": "77889574-dfad-4b59-8575-faedf16d722e",
   "metadata": {},
   "outputs": [
    {
     "name": "stdout",
     "output_type": "stream",
     "text": [
      "Failed to process image New folder: OpenCV(4.11.0) D:\\a\\opencv-python\\opencv-python\\opencv\\modules\\imgproc\\src\\resize.cpp:4208: error: (-215:Assertion failed) !ssize.empty() in function 'cv::resize'\n",
      "\n",
      "Total images loaded: 117455\n"
     ]
    }
   ],
   "source": [
    "# Ensure the dataset is loaded\n",
    "if 'dataset' not in locals():\n",
    "\tdataset = load_images(data_dir, categories, img_size)\n",
    "\n",
    "print(f\"Total images loaded: {len(dataset)}\")"
   ]
  },
  {
   "cell_type": "code",
   "execution_count": 12,
   "id": "103cc157",
   "metadata": {
    "id": "103cc157"
   },
   "outputs": [],
   "source": [
    "import numpy as np\n",
    "\n",
    "def data_generator(dataset, img_size, batch_size=32):\n",
    "    X_batch, y_batch = [], []\n",
    "    while True:\n",
    "        for img, label in dataset:\n",
    "            X_batch.append(img / 255.0)  # Normalize to [0,1]\n",
    "            y_batch.append(label)\n",
    "            if len(X_batch) == batch_size:\n",
    "                yield (np.array(X_batch, dtype=np.float32).reshape(-1, img_size, img_size, 3),\n",
    "                       np.array(y_batch, dtype=np.int32))\n",
    "                X_batch, y_batch = [], []\n",
    "\n",
    "        # Yield the last remaining batch (if it's not empty)\n",
    "        if X_batch:\n",
    "            yield (np.array(X_batch, dtype=np.float32).reshape(-1, img_size, img_size, 3),\n",
    "                   np.array(y_batch, dtype=np.int32))\n",
    "            X_batch, y_batch = [], []  # Reset for next epoch\n",
    "\n"
   ]
  },
  {
   "cell_type": "code",
   "execution_count": 13,
   "id": "2df94bef",
   "metadata": {
    "id": "2df94bef",
    "outputId": "c680d8a5-59ed-426c-ab14-f8ffec78066e"
   },
   "outputs": [
    {
     "name": "stdout",
     "output_type": "stream",
     "text": [
      "Total samples: 117455\n"
     ]
    }
   ],
   "source": [
    "# %%\n",
    "import random\n",
    "\n",
    "random.shuffle(dataset)\n",
    "print(f\"Total samples: {len(dataset)}\")\n"
   ]
  },
  {
   "cell_type": "code",
   "execution_count": 14,
   "id": "91b0bc1d",
   "metadata": {
    "id": "91b0bc1d",
    "outputId": "be395895-ec33-4d0b-9264-cb151036e064"
   },
   "outputs": [
    {
     "name": "stdout",
     "output_type": "stream",
     "text": [
      "Number of images: 117455, Number of labels: 117455\n"
     ]
    }
   ],
   "source": [
    "# %%\n",
    "X = []\n",
    "y = []\n",
    "\n",
    "for image, label in dataset:\n",
    "    X.append(image)\n",
    "    y.append(label)\n",
    "\n",
    "print(f\"Number of images: {len(X)}, Number of labels: {len(y)}\")\n"
   ]
  },
  {
   "cell_type": "code",
   "execution_count": 15,
   "id": "892b1b5b",
   "metadata": {
    "id": "892b1b5b"
   },
   "outputs": [
    {
     "name": "stdout",
     "output_type": "stream",
     "text": [
      "Saved batch 0 — 10000 samples\n",
      "Saved batch 1 — 10000 samples\n",
      "Saved batch 2 — 10000 samples\n",
      "Saved batch 3 — 10000 samples\n",
      "Saved batch 4 — 10000 samples\n",
      "Saved batch 5 — 10000 samples\n",
      "Saved batch 6 — 10000 samples\n",
      "Saved batch 7 — 10000 samples\n",
      "Saved batch 8 — 10000 samples\n",
      "Saved batch 9 — 10000 samples\n",
      "Saved batch 10 — 10000 samples\n",
      "Saved batch 11 — 7455 samples\n"
     ]
    }
   ],
   "source": [
    "import numpy as np\n",
    "import os\n",
    "\n",
    "# Create a folder to save batches\n",
    "os.makedirs(\"saved_batches\", exist_ok=True)\n",
    "\n",
    "batch_size = 10000\n",
    "for i in range(0, len(X), batch_size):\n",
    "    X_batch = np.array(X[i:i+batch_size], dtype=np.uint8)\n",
    "    y_batch = np.array(y[i:i+batch_size])\n",
    "\n",
    "    np.save(f\"saved_batches/X_batch_{i//batch_size}.npy\", X_batch)\n",
    "    np.save(f\"saved_batches/y_batch_{i//batch_size}.npy\", y_batch)\n",
    "\n",
    "    print(f\"Saved batch {i//batch_size} — {len(X_batch)} samples\")\n"
   ]
  },
  {
   "cell_type": "code",
   "execution_count": 16,
   "id": "3f1e3643",
   "metadata": {
    "id": "3f1e3643",
    "outputId": "f38e0829-c90f-4b7c-bd66-0e354deeb739"
   },
   "outputs": [
    {
     "name": "stdout",
     "output_type": "stream",
     "text": [
      "First batch shape: (32, 128, 128), Labels shape: (32,)\n"
     ]
    }
   ],
   "source": [
    "# %%\n",
    "# Process the dataset in smaller chunks to avoid MemoryError\n",
    "def normalize_in_batches(dataset, batch_size):\n",
    "\tfor i in range(0, len(dataset), batch_size):\n",
    "\t\tbatch = dataset[i:i + batch_size]\n",
    "\t\tbatch_images = np.array([img for img, label in batch], dtype=np.float32) / 255.0\n",
    "\t\tbatch_labels = np.array([label for img, label in batch], dtype=np.int32)\n",
    "\t\tyield batch_images, batch_labels\n",
    "\n",
    "# Example usage\n",
    "normalized_batches = normalize_in_batches(dataset, batch_size=32)\n",
    "first_batch_images, first_batch_labels = next(normalized_batches)\n",
    "print(f\"First batch shape: {first_batch_images.shape}, Labels shape: {first_batch_labels.shape}\")\n"
   ]
  },
  {
   "cell_type": "code",
   "execution_count": 17,
   "id": "612d5127",
   "metadata": {
    "id": "612d5127",
    "outputId": "db5c2883-552a-4486-9507-becea1d06f9b"
   },
   "outputs": [
    {
     "name": "stdout",
     "output_type": "stream",
     "text": [
      "Training samples: 93964, Testing samples: 23491\n"
     ]
    }
   ],
   "source": [
    "# %%\n",
    "from sklearn.model_selection import train_test_split\n",
    "\n",
    "# Ensure X and y are populated with data\n",
    "if len(X) == 0 or len(y) == 0:\n",
    "    raise ValueError(\"X and y are empty. Please ensure they are populated with data before splitting.\")\n",
    "\n",
    "X_train, X_test, y_train, y_test = train_test_split(\n",
    "    X, y, test_size=0.2, random_state=42, stratify=y\n",
    ")\n",
    "\n",
    "print(f\"Training samples: {len(X_train)}, Testing samples: {len(X_test)}\")\n"
   ]
  },
  {
   "cell_type": "code",
   "execution_count": 18,
   "id": "4f52d7e1",
   "metadata": {
    "id": "4f52d7e1",
    "outputId": "5119b14c-932e-4928-d28b-aa47966d1435"
   },
   "outputs": [],
   "source": [
    "# Install TensorFlow if not already installed\n",
    "# %pip install tensorflow\n",
    "\n",
    "from tensorflow.keras.preprocessing.image import ImageDataGenerator\n",
    "\n",
    "train_datagen = ImageDataGenerator(rescale=1./255, rotation_range=10,\n",
    "                                   zoom_range=0.1, horizontal_flip=True)\n",
    "test_datagen = ImageDataGenerator(rescale=1./255)\n"
   ]
  },
  {
   "cell_type": "code",
   "execution_count": 19,
   "id": "b1ea4ff4",
   "metadata": {
    "id": "b1ea4ff4"
   },
   "outputs": [],
   "source": [
    "import os\n",
    "import numpy as np\n",
    "import tensorflow as tf\n",
    "from tensorflow.keras.models import Sequential\n",
    "from tensorflow.keras.layers import Conv2D, MaxPooling2D, Flatten, Dense, Dropout\n",
    "from tensorflow.keras.preprocessing.image import ImageDataGenerator\n",
    "from sklearn.metrics import classification_report, confusion_matrix\n",
    "import matplotlib.pyplot as plt"
   ]
  },
  {
   "cell_type": "code",
   "execution_count": 21,
   "id": "9d093cbc",
   "metadata": {
    "id": "9d093cbc",
    "outputId": "171a7e36-e6c1-4c69-a6fd-bc3b8e85247b"
   },
   "outputs": [
    {
     "name": "stdout",
     "output_type": "stream",
     "text": [
      "Found 117455 images belonging to 2 classes.\n",
      "Found 10905 images belonging to 2 classes.\n"
     ]
    }
   ],
   "source": [
    "# Define directories for training and testing data\n",
    "# Update the paths to the correct directories\n",
    "train_dir = r\"C:\\Users\\divya\\Downloads\\extracted_data\\Dataset\\Train\"\n",
    "test_dir = r\"C:\\Users\\divya\\Downloads\\extracted_data\\Dataset\\Test\"\n",
    "\n",
    "# Normalize pixel values between 0 and 1\n",
    "train_datagen = ImageDataGenerator(rescale=1./255, horizontal_flip=True, zoom_range=0.2)\n",
    "test_datagen = ImageDataGenerator(rescale=1./255)\n",
    "\n",
    "# Create batches\n",
    "train_generator = train_datagen.flow_from_directory(\n",
    "    train_dir,\n",
    "    target_size=(128, 128),\n",
    "    batch_size=32,\n",
    "    class_mode='binary'\n",
    ")\n",
    "\n",
    "test_generator = test_datagen.flow_from_directory(\n",
    "    test_dir,\n",
    "    target_size=(128, 128),\n",
    "    batch_size=32,\n",
    "    class_mode='binary',\n",
    "    shuffle=False  # Important for evaluation\n",
    ")"
   ]
  },
  {
   "cell_type": "code",
   "execution_count": 22,
   "id": "272d438e",
   "metadata": {
    "id": "272d438e",
    "outputId": "256e0f4f-2682-4116-9602-aa57181e187f"
   },
   "outputs": [
    {
     "name": "stderr",
     "output_type": "stream",
     "text": [
      "c:\\Users\\divya\\AppData\\Local\\Programs\\Python\\Python311\\Lib\\site-packages\\keras\\src\\layers\\convolutional\\base_conv.py:107: UserWarning: Do not pass an `input_shape`/`input_dim` argument to a layer. When using Sequential models, prefer using an `Input(shape)` object as the first layer in the model instead.\n",
      "  super().__init__(activity_regularizer=activity_regularizer, **kwargs)\n"
     ]
    },
    {
     "data": {
      "text/html": [
       "<pre style=\"white-space:pre;overflow-x:auto;line-height:normal;font-family:Menlo,'DejaVu Sans Mono',consolas,'Courier New',monospace\"><span style=\"font-weight: bold\">Model: \"sequential\"</span>\n",
       "</pre>\n"
      ],
      "text/plain": [
       "\u001b[1mModel: \"sequential\"\u001b[0m\n"
      ]
     },
     "metadata": {},
     "output_type": "display_data"
    },
    {
     "data": {
      "text/html": [
       "<pre style=\"white-space:pre;overflow-x:auto;line-height:normal;font-family:Menlo,'DejaVu Sans Mono',consolas,'Courier New',monospace\">┏━━━━━━━━━━━━━━━━━━━━━━━━━━━━━━━━━┳━━━━━━━━━━━━━━━━━━━━━━━━┳━━━━━━━━━━━━━━━┓\n",
       "┃<span style=\"font-weight: bold\"> Layer (type)                    </span>┃<span style=\"font-weight: bold\"> Output Shape           </span>┃<span style=\"font-weight: bold\">       Param # </span>┃\n",
       "┡━━━━━━━━━━━━━━━━━━━━━━━━━━━━━━━━━╇━━━━━━━━━━━━━━━━━━━━━━━━╇━━━━━━━━━━━━━━━┩\n",
       "│ conv2d (<span style=\"color: #0087ff; text-decoration-color: #0087ff\">Conv2D</span>)                 │ (<span style=\"color: #00d7ff; text-decoration-color: #00d7ff\">None</span>, <span style=\"color: #00af00; text-decoration-color: #00af00\">126</span>, <span style=\"color: #00af00; text-decoration-color: #00af00\">126</span>, <span style=\"color: #00af00; text-decoration-color: #00af00\">32</span>)   │           <span style=\"color: #00af00; text-decoration-color: #00af00\">896</span> │\n",
       "├─────────────────────────────────┼────────────────────────┼───────────────┤\n",
       "│ max_pooling2d (<span style=\"color: #0087ff; text-decoration-color: #0087ff\">MaxPooling2D</span>)    │ (<span style=\"color: #00d7ff; text-decoration-color: #00d7ff\">None</span>, <span style=\"color: #00af00; text-decoration-color: #00af00\">63</span>, <span style=\"color: #00af00; text-decoration-color: #00af00\">63</span>, <span style=\"color: #00af00; text-decoration-color: #00af00\">32</span>)     │             <span style=\"color: #00af00; text-decoration-color: #00af00\">0</span> │\n",
       "├─────────────────────────────────┼────────────────────────┼───────────────┤\n",
       "│ conv2d_1 (<span style=\"color: #0087ff; text-decoration-color: #0087ff\">Conv2D</span>)               │ (<span style=\"color: #00d7ff; text-decoration-color: #00d7ff\">None</span>, <span style=\"color: #00af00; text-decoration-color: #00af00\">61</span>, <span style=\"color: #00af00; text-decoration-color: #00af00\">61</span>, <span style=\"color: #00af00; text-decoration-color: #00af00\">64</span>)     │        <span style=\"color: #00af00; text-decoration-color: #00af00\">18,496</span> │\n",
       "├─────────────────────────────────┼────────────────────────┼───────────────┤\n",
       "│ max_pooling2d_1 (<span style=\"color: #0087ff; text-decoration-color: #0087ff\">MaxPooling2D</span>)  │ (<span style=\"color: #00d7ff; text-decoration-color: #00d7ff\">None</span>, <span style=\"color: #00af00; text-decoration-color: #00af00\">30</span>, <span style=\"color: #00af00; text-decoration-color: #00af00\">30</span>, <span style=\"color: #00af00; text-decoration-color: #00af00\">64</span>)     │             <span style=\"color: #00af00; text-decoration-color: #00af00\">0</span> │\n",
       "├─────────────────────────────────┼────────────────────────┼───────────────┤\n",
       "│ conv2d_2 (<span style=\"color: #0087ff; text-decoration-color: #0087ff\">Conv2D</span>)               │ (<span style=\"color: #00d7ff; text-decoration-color: #00d7ff\">None</span>, <span style=\"color: #00af00; text-decoration-color: #00af00\">28</span>, <span style=\"color: #00af00; text-decoration-color: #00af00\">28</span>, <span style=\"color: #00af00; text-decoration-color: #00af00\">128</span>)    │        <span style=\"color: #00af00; text-decoration-color: #00af00\">73,856</span> │\n",
       "├─────────────────────────────────┼────────────────────────┼───────────────┤\n",
       "│ max_pooling2d_2 (<span style=\"color: #0087ff; text-decoration-color: #0087ff\">MaxPooling2D</span>)  │ (<span style=\"color: #00d7ff; text-decoration-color: #00d7ff\">None</span>, <span style=\"color: #00af00; text-decoration-color: #00af00\">14</span>, <span style=\"color: #00af00; text-decoration-color: #00af00\">14</span>, <span style=\"color: #00af00; text-decoration-color: #00af00\">128</span>)    │             <span style=\"color: #00af00; text-decoration-color: #00af00\">0</span> │\n",
       "├─────────────────────────────────┼────────────────────────┼───────────────┤\n",
       "│ flatten (<span style=\"color: #0087ff; text-decoration-color: #0087ff\">Flatten</span>)               │ (<span style=\"color: #00d7ff; text-decoration-color: #00d7ff\">None</span>, <span style=\"color: #00af00; text-decoration-color: #00af00\">25088</span>)          │             <span style=\"color: #00af00; text-decoration-color: #00af00\">0</span> │\n",
       "├─────────────────────────────────┼────────────────────────┼───────────────┤\n",
       "│ dense (<span style=\"color: #0087ff; text-decoration-color: #0087ff\">Dense</span>)                   │ (<span style=\"color: #00d7ff; text-decoration-color: #00d7ff\">None</span>, <span style=\"color: #00af00; text-decoration-color: #00af00\">128</span>)            │     <span style=\"color: #00af00; text-decoration-color: #00af00\">3,211,392</span> │\n",
       "├─────────────────────────────────┼────────────────────────┼───────────────┤\n",
       "│ dropout (<span style=\"color: #0087ff; text-decoration-color: #0087ff\">Dropout</span>)               │ (<span style=\"color: #00d7ff; text-decoration-color: #00d7ff\">None</span>, <span style=\"color: #00af00; text-decoration-color: #00af00\">128</span>)            │             <span style=\"color: #00af00; text-decoration-color: #00af00\">0</span> │\n",
       "├─────────────────────────────────┼────────────────────────┼───────────────┤\n",
       "│ dense_1 (<span style=\"color: #0087ff; text-decoration-color: #0087ff\">Dense</span>)                 │ (<span style=\"color: #00d7ff; text-decoration-color: #00d7ff\">None</span>, <span style=\"color: #00af00; text-decoration-color: #00af00\">1</span>)              │           <span style=\"color: #00af00; text-decoration-color: #00af00\">129</span> │\n",
       "└─────────────────────────────────┴────────────────────────┴───────────────┘\n",
       "</pre>\n"
      ],
      "text/plain": [
       "┏━━━━━━━━━━━━━━━━━━━━━━━━━━━━━━━━━┳━━━━━━━━━━━━━━━━━━━━━━━━┳━━━━━━━━━━━━━━━┓\n",
       "┃\u001b[1m \u001b[0m\u001b[1mLayer (type)                   \u001b[0m\u001b[1m \u001b[0m┃\u001b[1m \u001b[0m\u001b[1mOutput Shape          \u001b[0m\u001b[1m \u001b[0m┃\u001b[1m \u001b[0m\u001b[1m      Param #\u001b[0m\u001b[1m \u001b[0m┃\n",
       "┡━━━━━━━━━━━━━━━━━━━━━━━━━━━━━━━━━╇━━━━━━━━━━━━━━━━━━━━━━━━╇━━━━━━━━━━━━━━━┩\n",
       "│ conv2d (\u001b[38;5;33mConv2D\u001b[0m)                 │ (\u001b[38;5;45mNone\u001b[0m, \u001b[38;5;34m126\u001b[0m, \u001b[38;5;34m126\u001b[0m, \u001b[38;5;34m32\u001b[0m)   │           \u001b[38;5;34m896\u001b[0m │\n",
       "├─────────────────────────────────┼────────────────────────┼───────────────┤\n",
       "│ max_pooling2d (\u001b[38;5;33mMaxPooling2D\u001b[0m)    │ (\u001b[38;5;45mNone\u001b[0m, \u001b[38;5;34m63\u001b[0m, \u001b[38;5;34m63\u001b[0m, \u001b[38;5;34m32\u001b[0m)     │             \u001b[38;5;34m0\u001b[0m │\n",
       "├─────────────────────────────────┼────────────────────────┼───────────────┤\n",
       "│ conv2d_1 (\u001b[38;5;33mConv2D\u001b[0m)               │ (\u001b[38;5;45mNone\u001b[0m, \u001b[38;5;34m61\u001b[0m, \u001b[38;5;34m61\u001b[0m, \u001b[38;5;34m64\u001b[0m)     │        \u001b[38;5;34m18,496\u001b[0m │\n",
       "├─────────────────────────────────┼────────────────────────┼───────────────┤\n",
       "│ max_pooling2d_1 (\u001b[38;5;33mMaxPooling2D\u001b[0m)  │ (\u001b[38;5;45mNone\u001b[0m, \u001b[38;5;34m30\u001b[0m, \u001b[38;5;34m30\u001b[0m, \u001b[38;5;34m64\u001b[0m)     │             \u001b[38;5;34m0\u001b[0m │\n",
       "├─────────────────────────────────┼────────────────────────┼───────────────┤\n",
       "│ conv2d_2 (\u001b[38;5;33mConv2D\u001b[0m)               │ (\u001b[38;5;45mNone\u001b[0m, \u001b[38;5;34m28\u001b[0m, \u001b[38;5;34m28\u001b[0m, \u001b[38;5;34m128\u001b[0m)    │        \u001b[38;5;34m73,856\u001b[0m │\n",
       "├─────────────────────────────────┼────────────────────────┼───────────────┤\n",
       "│ max_pooling2d_2 (\u001b[38;5;33mMaxPooling2D\u001b[0m)  │ (\u001b[38;5;45mNone\u001b[0m, \u001b[38;5;34m14\u001b[0m, \u001b[38;5;34m14\u001b[0m, \u001b[38;5;34m128\u001b[0m)    │             \u001b[38;5;34m0\u001b[0m │\n",
       "├─────────────────────────────────┼────────────────────────┼───────────────┤\n",
       "│ flatten (\u001b[38;5;33mFlatten\u001b[0m)               │ (\u001b[38;5;45mNone\u001b[0m, \u001b[38;5;34m25088\u001b[0m)          │             \u001b[38;5;34m0\u001b[0m │\n",
       "├─────────────────────────────────┼────────────────────────┼───────────────┤\n",
       "│ dense (\u001b[38;5;33mDense\u001b[0m)                   │ (\u001b[38;5;45mNone\u001b[0m, \u001b[38;5;34m128\u001b[0m)            │     \u001b[38;5;34m3,211,392\u001b[0m │\n",
       "├─────────────────────────────────┼────────────────────────┼───────────────┤\n",
       "│ dropout (\u001b[38;5;33mDropout\u001b[0m)               │ (\u001b[38;5;45mNone\u001b[0m, \u001b[38;5;34m128\u001b[0m)            │             \u001b[38;5;34m0\u001b[0m │\n",
       "├─────────────────────────────────┼────────────────────────┼───────────────┤\n",
       "│ dense_1 (\u001b[38;5;33mDense\u001b[0m)                 │ (\u001b[38;5;45mNone\u001b[0m, \u001b[38;5;34m1\u001b[0m)              │           \u001b[38;5;34m129\u001b[0m │\n",
       "└─────────────────────────────────┴────────────────────────┴───────────────┘\n"
      ]
     },
     "metadata": {},
     "output_type": "display_data"
    },
    {
     "data": {
      "text/html": [
       "<pre style=\"white-space:pre;overflow-x:auto;line-height:normal;font-family:Menlo,'DejaVu Sans Mono',consolas,'Courier New',monospace\"><span style=\"font-weight: bold\"> Total params: </span><span style=\"color: #00af00; text-decoration-color: #00af00\">3,304,769</span> (12.61 MB)\n",
       "</pre>\n"
      ],
      "text/plain": [
       "\u001b[1m Total params: \u001b[0m\u001b[38;5;34m3,304,769\u001b[0m (12.61 MB)\n"
      ]
     },
     "metadata": {},
     "output_type": "display_data"
    },
    {
     "data": {
      "text/html": [
       "<pre style=\"white-space:pre;overflow-x:auto;line-height:normal;font-family:Menlo,'DejaVu Sans Mono',consolas,'Courier New',monospace\"><span style=\"font-weight: bold\"> Trainable params: </span><span style=\"color: #00af00; text-decoration-color: #00af00\">3,304,769</span> (12.61 MB)\n",
       "</pre>\n"
      ],
      "text/plain": [
       "\u001b[1m Trainable params: \u001b[0m\u001b[38;5;34m3,304,769\u001b[0m (12.61 MB)\n"
      ]
     },
     "metadata": {},
     "output_type": "display_data"
    },
    {
     "data": {
      "text/html": [
       "<pre style=\"white-space:pre;overflow-x:auto;line-height:normal;font-family:Menlo,'DejaVu Sans Mono',consolas,'Courier New',monospace\"><span style=\"font-weight: bold\"> Non-trainable params: </span><span style=\"color: #00af00; text-decoration-color: #00af00\">0</span> (0.00 B)\n",
       "</pre>\n"
      ],
      "text/plain": [
       "\u001b[1m Non-trainable params: \u001b[0m\u001b[38;5;34m0\u001b[0m (0.00 B)\n"
      ]
     },
     "metadata": {},
     "output_type": "display_data"
    }
   ],
   "source": [
    "model = Sequential([\n",
    "    Conv2D(32, (3, 3), activation='relu', input_shape=(128, 128, 3)),\n",
    "    MaxPooling2D(2, 2),\n",
    "\n",
    "    Conv2D(64, (3, 3), activation='relu'),\n",
    "    MaxPooling2D(2, 2),\n",
    "\n",
    "    Conv2D(128, (3, 3), activation='relu'),\n",
    "    MaxPooling2D(2, 2),\n",
    "\n",
    "    Flatten(),\n",
    "    Dense(128, activation='relu'),\n",
    "    Dropout(0.5),\n",
    "    Dense(1, activation='sigmoid')  # Binary output: Real or Fake\n",
    "])\n",
    "\n",
    "model.compile(optimizer='adam', loss='binary_crossentropy', metrics=['accuracy'])\n",
    "\n",
    "model.summary()"
   ]
  },
  {
   "cell_type": "code",
   "execution_count": 23,
   "id": "1ec29cf3",
   "metadata": {
    "id": "1ec29cf3",
    "outputId": "f81a6616-d9ba-42a4-9680-490f69d4efcc"
   },
   "outputs": [],
   "source": [
    "# # Accuracy plot\n",
    "# plt.plot(history.history['accuracy'], label='Train Accuracy')\n",
    "# plt.plot(history.history['val_accuracy'], label='Test Accuracy')\n",
    "# plt.legend()\n",
    "# plt.show()\n",
    "\n",
    "# # Loss plot\n",
    "# plt.plot(history.history['loss'], label='Train Loss')\n",
    "# plt.plot(history.history['val_loss'], label='Test Loss')\n",
    "# plt.legend()\n",
    "# plt.show()"
   ]
  },
  {
   "cell_type": "code",
   "execution_count": 24,
   "id": "92ecae71",
   "metadata": {
    "id": "92ecae71",
    "outputId": "6399ab06-f0c8-44c8-ea38-4b20710d8caa"
   },
   "outputs": [
    {
     "name": "stderr",
     "output_type": "stream",
     "text": [
      "WARNING:absl:You are saving your model as an HDF5 file via `model.save()` or `keras.saving.save_model(model)`. This file format is considered legacy. We recommend using instead the native Keras format, e.g. `model.save('my_model.keras')` or `keras.saving.save_model(model, 'my_model.keras')`. \n"
     ]
    }
   ],
   "source": [
    "model.save('deepfake_detection_model.h5')"
   ]
  },
  {
   "cell_type": "code",
   "execution_count": 30,
   "id": "c42124d4",
   "metadata": {
    "id": "c42124d4",
    "outputId": "25ddb88f-e8c7-40db-a155-c9de3153d303"
   },
   "outputs": [
    {
     "name": "stdout",
     "output_type": "stream",
     "text": [
      "\u001b[1m1/1\u001b[0m \u001b[32m━━━━━━━━━━━━━━━━━━━━\u001b[0m\u001b[37m\u001b[0m \u001b[1m0s\u001b[0m 294ms/step\n",
      "Raw Prediction Output: [[0.519155]]\n"
     ]
    }
   ],
   "source": [
    "# Example: Assuming you have an input image to predict\n",
    "# Use the variable \"image\" which is already defined in the notebook\n",
    "# Resize the image to (128, 128) if necessary\n",
    "if image.shape[:2] != (128, 128):  # Check only height and width\n",
    "\timage = cv2.resize(image, (128, 128))\n",
    "\n",
    "# Ensure the image has 3 channels\n",
    "if len(image.shape) == 2 or image.shape[-1] != 3:  # Check if the image is grayscale or has incorrect channels\n",
    "\timage = cv2.cvtColor(image, cv2.COLOR_GRAY2RGB)  # Convert grayscale to RGB\n",
    "\n",
    "# Normalize the image and add batch dimension\n",
    "processed_image = np.expand_dims(image / 255.0, axis=0)\n",
    "\n",
    "# Predict using the model\n",
    "prediction = model.predict(processed_image)\n",
    "\n",
    "print(\"Raw Prediction Output:\", prediction)\n"
   ]
  },
  {
   "cell_type": "code",
   "execution_count": 32,
   "id": "b6ce3769",
   "metadata": {
    "id": "b6ce3769",
    "outputId": "94e34ce4-524c-4bbc-af17-a59fb6f878f5"
   },
   "outputs": [
    {
     "name": "stdout",
     "output_type": "stream",
     "text": [
      "REAL images: 55649\n",
      "FAKE images: 61807\n"
     ]
    }
   ],
   "source": [
    "import os\n",
    "\n",
    "real_path = os.path.join(data_dir, 'real')\n",
    "fake_path = os.path.join(data_dir, 'fake')\n",
    "\n",
    "print(\"REAL images:\", len(os.listdir(real_path)))\n",
    "print(\"FAKE images:\", len(os.listdir(fake_path)))\n"
   ]
  },
  {
   "cell_type": "code",
   "execution_count": 33,
   "id": "993f4640",
   "metadata": {
    "id": "993f4640"
   },
   "outputs": [],
   "source": [
    "from tensorflow.keras.models import Sequential\n",
    "from tensorflow.keras.layers import Dense\n",
    "\n",
    "# Reinitialize the model\n",
    "model = Sequential()\n",
    "\n",
    "# Add the final layer\n",
    "model.add(Dense(1, activation='sigmoid'))\n",
    "\n",
    "# Compile\n",
    "model.compile(optimizer='adam', loss='binary_crossentropy', metrics=['accuracy'])\n"
   ]
  },
  {
   "cell_type": "code",
   "execution_count": 36,
   "id": "5641c677",
   "metadata": {
    "id": "5641c677",
    "outputId": "6a2dd968-59e6-4822-fca6-f000e7a98b47"
   },
   "outputs": [
    {
     "name": "stdout",
     "output_type": "stream",
     "text": [
      "Found 93965 images belonging to 2 classes.\n",
      "Found 23490 images belonging to 2 classes.\n",
      "Epoch 1/2\n",
      "\u001b[1m2937/2937\u001b[0m \u001b[32m━━━━━━━━━━━━━━━━━━━━\u001b[0m\u001b[37m\u001b[0m \u001b[1m1200s\u001b[0m 406ms/step - accuracy: 0.7577 - loss: 0.4848 - val_accuracy: 0.7881 - val_loss: 0.4410\n",
      "Epoch 2/2\n",
      "\u001b[1m2937/2937\u001b[0m \u001b[32m━━━━━━━━━━━━━━━━━━━━\u001b[0m\u001b[37m\u001b[0m \u001b[1m1168s\u001b[0m 398ms/step - accuracy: 0.8060 - loss: 0.4115 - val_accuracy: 0.7848 - val_loss: 0.4417\n"
     ]
    },
    {
     "data": {
      "text/plain": [
       "<keras.src.callbacks.history.History at 0x24ad2180810>"
      ]
     },
     "execution_count": 36,
     "metadata": {},
     "output_type": "execute_result"
    }
   ],
   "source": [
    "from tensorflow.keras.applications import MobileNetV2\n",
    "from tensorflow.keras.models import Model\n",
    "from tensorflow.keras.layers import Dense, GlobalAveragePooling2D\n",
    "from tensorflow.keras.optimizers import Adam\n",
    "from tensorflow.keras.preprocessing.image import ImageDataGenerator\n",
    "\n",
    "# Load base model\n",
    "base_model = MobileNetV2(weights='imagenet', include_top=False, input_shape=(128, 128, 3))\n",
    "\n",
    "# Add custom head\n",
    "x = base_model.output\n",
    "x = GlobalAveragePooling2D()(x)\n",
    "x = Dense(64, activation='relu')(x)\n",
    "output = Dense(1, activation='sigmoid')(x)\n",
    "\n",
    "model = Model(inputs=base_model.input, outputs=output)\n",
    "\n",
    "# Freeze base model\n",
    "for layer in base_model.layers:\n",
    "    layer.trainable = False\n",
    "\n",
    "# Compile\n",
    "model.compile(optimizer=Adam(learning_rate=0.0001), loss='binary_crossentropy', metrics=['accuracy'])\n",
    "\n",
    "# Train\n",
    "train_datagen = ImageDataGenerator(rescale=1./255, validation_split=0.2)\n",
    "\n",
    "train_gen = train_datagen.flow_from_directory(\n",
    "    train_dir,\n",
    "    target_size=(128, 128),\n",
    "    batch_size=32,\n",
    "    class_mode='binary',\n",
    "    subset='training'\n",
    ")\n",
    "\n",
    "val_gen = train_datagen.flow_from_directory(\n",
    "    train_dir,\n",
    "    target_size=(128, 128),\n",
    "    batch_size=32,\n",
    "    class_mode='binary',\n",
    "    subset='validation'\n",
    ")\n",
    "\n",
    "model.fit(train_gen, validation_data=val_gen, epochs=2)\n"
   ]
  },
  {
   "cell_type": "code",
   "execution_count": 38,
   "id": "0f86afc0",
   "metadata": {
    "id": "0f86afc0",
    "outputId": "0066ec84-3f05-478f-e8e7-7ad37d3d5329"
   },
   "outputs": [
    {
     "name": "stderr",
     "output_type": "stream",
     "text": [
      "c:\\Users\\divya\\AppData\\Local\\Programs\\Python\\Python311\\Lib\\site-packages\\keras\\src\\trainers\\data_adapters\\py_dataset_adapter.py:121: UserWarning: Your `PyDataset` class should call `super().__init__(**kwargs)` in its constructor. `**kwargs` can include `workers`, `use_multiprocessing`, `max_queue_size`. Do not pass these arguments to `fit()`, as they will be ignored.\n",
      "  self._warn_if_super_not_called()\n"
     ]
    },
    {
     "name": "stdout",
     "output_type": "stream",
     "text": [
      "\u001b[1m341/341\u001b[0m \u001b[32m━━━━━━━━━━━━━━━━━━━━\u001b[0m\u001b[37m\u001b[0m \u001b[1m113s\u001b[0m 315ms/step\n",
      "              precision    recall  f1-score   support\n",
      "\n",
      "           0       0.73      0.71      0.72      5492\n",
      "           1       0.71      0.74      0.72      5413\n",
      "\n",
      "    accuracy                           0.72     10905\n",
      "   macro avg       0.72      0.72      0.72     10905\n",
      "weighted avg       0.72      0.72      0.72     10905\n",
      "\n"
     ]
    },
    {
     "data": {
      "image/png": "[encoded data removed]",
      "text/plain": [
       "<Figure size 640x480 with 2 Axes>"
      ]
     },
     "metadata": {},
     "output_type": "display_data"
    },
    {
     "data": {
      "image/png": "[encoded data removed]",
      "text/plain": [
       "<Figure size 640x480 with 1 Axes>"
      ]
     },
     "metadata": {},
     "output_type": "display_data"
    },
    {
     "name": "stdout",
     "output_type": "stream",
     "text": [
      "ROC AUC Score: 0.806297597069126\n"
     ]
    }
   ],
   "source": [
    "# %pip install seaborn\n",
    "\n",
    "from sklearn.metrics import classification_report, confusion_matrix, roc_auc_score, roc_curve\n",
    "import seaborn as sns\n",
    "\n",
    "# Define test_generator if not already defined\n",
    "if 'test_generator' not in locals():\n",
    "\ttest_dir = r\"Test\"\n",
    "\ttest_datagen = ImageDataGenerator(rescale=1./255)\n",
    "\ttest_generator = test_datagen.flow_from_directory(\n",
    "\t\ttest_dir,\n",
    "\t\ttarget_size=(128, 128),\n",
    "\t\tbatch_size=32,\n",
    "\t\tclass_mode='binary',\n",
    "\t\tshuffle=False  # Important for evaluation\n",
    "\t)\n",
    "\n",
    "# Predict on test data\n",
    "y_pred = model.predict(test_generator)\n",
    "y_pred_classes = (y_pred > 0.5).astype(\"int32\")\n",
    "\n",
    "# True labels from the test generator\n",
    "y_test = test_generator.classes\n",
    "\n",
    "# Classification report\n",
    "print(classification_report(y_test, y_pred_classes))\n",
    "\n",
    "# Confusion matrix\n",
    "cm = confusion_matrix(y_test, y_pred_classes)\n",
    "sns.heatmap(cm, annot=True, fmt='d')\n",
    "plt.xlabel('Predicted')\n",
    "plt.ylabel('True')\n",
    "plt.show()\n",
    "\n",
    "# ROC Curve\n",
    "fpr, tpr, thresholds = roc_curve(y_test, y_pred)\n",
    "plt.plot(fpr, tpr)\n",
    "plt.xlabel('False Positive Rate')\n",
    "plt.ylabel('True Positive Rate')\n",
    "plt.title('ROC Curve')\n",
    "plt.show()\n",
    "\n",
    "# AUC Score\n",
    "print('ROC AUC Score:', roc_auc_score(y_test, y_pred))"
   ]
  },
  {
   "cell_type": "code",
   "execution_count": 39,
   "id": "6da28838",
   "metadata": {
    "id": "6da28838",
    "outputId": "11a6e45c-b0c5-42f5-a6ae-3f4f17eb663b"
   },
   "outputs": [
    {
     "name": "stderr",
     "output_type": "stream",
     "text": [
      "WARNING:absl:You are saving your model as an HDF5 file via `model.save()` or `keras.saving.save_model(model)`. This file format is considered legacy. We recommend using instead the native Keras format, e.g. `model.save('my_model.keras')` or `keras.saving.save_model(model, 'my_model.keras')`. \n"
     ]
    }
   ],
   "source": [
    "model.save('deepfake_detection_model.h5')"
   ]
  },
  {
   "cell_type": "code",
   "execution_count": 41,
   "id": "e1e5dc08",
   "metadata": {
    "id": "e1e5dc08",
    "outputId": "8089eb29-c718-43f2-be14-a4a10a22eb5a"
   },
   "outputs": [
    {
     "name": "stdout",
     "output_type": "stream",
     "text": [
      "REAL images: 55649\n",
      "FAKE images: 61807\n"
     ]
    }
   ],
   "source": [
    "import os\n",
    "\n",
    "real_path = os.path.join(data_dir, 'real')\n",
    "fake_path = os.path.join(data_dir, 'fake')\n",
    "\n",
    "print(\"REAL images:\", len(os.listdir(real_path)))\n",
    "print(\"FAKE images:\", len(os.listdir(fake_path)))\n"
   ]
  },
  {
   "cell_type": "code",
   "execution_count": 42,
   "id": "3262cc83",
   "metadata": {
    "colab": {
     "base_uri": "https://localhost:8080/",
     "height": 332
    },
    "executionInfo": {
     "elapsed": 107,
     "status": "error",
     "timestamp": 1744552277539,
     "user": {
      "displayName": "Divya Patel",
      "userId": "01349667343359736276"
     },
     "user_tz": -330
    },
    "id": "3262cc83",
    "outputId": "8e97870a-3621-4c38-cf2c-5be4e78b3f99"
   },
   "outputs": [
    {
     "name": "stdout",
     "output_type": "stream",
     "text": [
      "\u001b[1m1/1\u001b[0m \u001b[32m━━━━━━━━━━━━━━━━━━━━\u001b[0m\u001b[37m\u001b[0m \u001b[1m2s\u001b[0m 2s/step\n",
      "Prediction: FAKE\n"
     ]
    }
   ],
   "source": [
    "from tensorflow.keras.preprocessing import image\n",
    "import numpy as np\n",
    "\n",
    "\n",
    "img = image.load_img(r'C:\\Users\\divya\\Downloads\\extracted_data\\Dataset\\Test\\Fake\\fake_992.jpg', target_size=(128, 128))\n",
    "img_array = image.img_to_array(img)\n",
    "img_array = np.expand_dims(img_array, axis=0)\n",
    "img_array /= 255.0  \n",
    "\n",
    "# Predict\n",
    "prediction = model.predict(img_array)\n",
    "\n",
    "if prediction < 0.5:\n",
    "    print('Prediction: FAKE')\n",
    "else:\n",
    "    print('Prediction: REAL')\n"
   ]
  },
  {
   "cell_type": "code",
   "execution_count": 2,
   "id": "62f5fe3d",
   "metadata": {},
   "outputs": [
    {
     "name": "stderr",
     "output_type": "stream",
     "text": [
      "WARNING:absl:Compiled the loaded model, but the compiled metrics have yet to be built. `model.compile_metrics` will be empty until you train or evaluate the model.\n"
     ]
    },
    {
     "name": "stdout",
     "output_type": "stream",
     "text": [
      "\u001b[1m1/1\u001b[0m \u001b[32m━━━━━━━━━━━━━━━━━━━━\u001b[0m\u001b[37m\u001b[0m \u001b[1m2s\u001b[0m 2s/step\n",
      "Prediction: REAL\n"
     ]
    }
   ],
   "source": [
    "from tensorflow.keras.preprocessing import image\n",
    "from tensorflow.keras.models import load_model\n",
    "import numpy as np\n",
    "\n",
    "# Load the saved model\n",
    "model = load_model('deepfake_detection_model.h5')\n",
    "\n",
    "img = image.load_img(r'C:\\Users\\divya\\Downloads\\photo-1438761681033-6461ffad8d80.jpg', target_size=(128, 128))\n",
    "img_array = image.img_to_array(img)\n",
    "img_array = np.expand_dims(img_array, axis=0)\n",
    "img_array /= 255.0  \n",
    "\n",
    "# Predict\n",
    "prediction = model.predict(img_array)\n",
    "\n",
    "if prediction < 0.5:\n",
    "    print('Prediction: FAKE')\n",
    "else:\n",
    "    print('Prediction: REAL')\n"
   ]
  }
 ],
 "metadata": {
  "colab": {
   "provenance": []
  },
  "kernelspec": {
   "display_name": "Python 3",
   "language": "python",
   "name": "python3"
  },
  "language_info": {
   "codemirror_mode": {
    "name": "ipython",
    "version": 3
   },
   "file_extension": ".py",
   "mimetype": "text/x-python",
   "name": "python",
   "nbconvert_exporter": "python",
   "pygments_lexer": "ipython3",
   "version": "3.11.4"
  }
 },
 "nbformat": 4,
 "nbformat_minor": 5
}
